{
 "cells": [
  {
   "cell_type": "markdown",
   "metadata": {},
   "source": [
    "## find word audio"
   ]
  },
  {
   "cell_type": "code",
   "execution_count": 44,
   "metadata": {},
   "outputs": [
    {
     "name": "stdout",
     "output_type": "stream",
     "text": [
      "exporting /home/bolo/only_word/speaker0.wav\n",
      "exporting /home/bolo/only_word/speaker1.wav\n",
      "exporting /home/bolo/only_word/speaker2.wav\n"
     ]
    },
    {
     "data": {
      "image/png": "[encoded data removed]",
      "text/plain": [
       "<Figure size 432x288 with 1 Axes>"
      ]
     },
     "metadata": {
      "needs_background": "light"
     },
     "output_type": "display_data"
    }
   ],
   "source": [
    "from pydub import AudioSegment\n",
    "from pydub.silence import split_on_silence\n",
    "#http://localhost:8888/notebooks/combined_2_audio%26split_audio.ipynb#\n",
    "sound_file = AudioSegment.from_wav(\"speaker4.wav\")\n",
    "audio_chunks = split_on_silence(sound_file,min_silence_len=20,silence_thresh=-50)\n",
    "\n",
    "for i, chunk in enumerate(audio_chunks):\n",
    "\n",
    "    out_file = \"/home/bolo/only_word/speaker{0}.wav\".format(i)\n",
    "    print (\"exporting\", out_file)\n",
    "    chunk.export(out_file, format=\"wav\")\n",
    "    \n",
    "rate, sig = read('/home/bolo/only_word/speaker0.wav')\n",
    "sig = pd.DataFrame(sig)\n",
    "sig = sig[0]\n",
    "plt.plot(sig)\n",
    "plt.show()"
   ]
  },
  {
   "cell_type": "code",
   "execution_count": null,
   "metadata": {},
   "outputs": [],
   "source": []
  },
  {
   "cell_type": "markdown",
   "metadata": {},
   "source": [
    "## combined word and ringtone\n"
   ]
  },
  {
   "cell_type": "code",
   "execution_count": 2,
   "metadata": {},
   "outputs": [],
   "source": [
    "from scipy.io.wavfile import read\n",
    "import pandas as pd\n",
    "import matplotlib.pyplot as plt\n"
   ]
  },
  {
   "cell_type": "code",
   "execution_count": 67,
   "metadata": {},
   "outputs": [
    {
     "name": "stdout",
     "output_type": "stream",
     "text": [
      "done\n"
     ]
    }
   ],
   "source": [
    "from pydub import AudioSegment\n",
    "\n",
    "sound1 = AudioSegment.from_wav(\"/home/bolo/only_word/speaker333.wav\")\n",
    "sound2 = AudioSegment.from_wav(\"mi.wav\")\n",
    "\n",
    "x=0\n",
    "for i in range(x,len(sound2),284):\n",
    "    #print('hi')\n",
    "    combined = sound1.overlay(sound2[i:i+284])\n",
    "    combined.export(\"/home/bolo/word_ringtone/speaker/speaker3\"+str(i)+\".wav\", format='wav')\n",
    "print('done')\n",
    "\n",
    "\n"
   ]
  },
  {
   "cell_type": "code",
   "execution_count": null,
   "metadata": {},
   "outputs": [],
   "source": []
  },
  {
   "cell_type": "code",
   "execution_count": null,
   "metadata": {},
   "outputs": [],
   "source": []
  },
  {
   "cell_type": "code",
   "execution_count": null,
   "metadata": {},
   "outputs": [],
   "source": []
  },
  {
   "cell_type": "markdown",
   "metadata": {},
   "source": [
    "## modulation in voice data"
   ]
  },
  {
   "cell_type": "code",
   "execution_count": 70,
   "metadata": {},
   "outputs": [
    {
     "name": "stderr",
     "output_type": "stream",
     "text": [
      "/home/bolo/anaconda3/lib/python3.7/site-packages/pydub/utils.py:179: RuntimeWarning: Couldn't find ffplay or avplay - defaulting to ffplay, but may not work\n",
      "  warn(\"Couldn't find ffplay or avplay - defaulting to ffplay, but may not work\", RuntimeWarning)\n"
     ]
    }
   ],
   "source": [
    "from pydub import AudioSegment\n",
    "from pydub.playback import play\n",
    "import numpy as np"
   ]
  },
  {
   "cell_type": "code",
   "execution_count": 85,
   "metadata": {},
   "outputs": [],
   "source": [
    "def change_pitch(a,pitch,freq):\n",
    "    \n",
    "\n",
    "    sound = AudioSegment.from_file(a+'.wav', format=\"wav\")\n",
    "    print('read file')\n",
    "\n",
    "    # shift the pitch up by half an octave (speed will increase proportionally)\n",
    "    octaves = pitch\n",
    "    #freq = c\n",
    "\n",
    "    new_sample_rate = int(sound.frame_rate * (freq ** octaves))\n",
    "\n",
    "    # keep the same samples but tell the computer they ought to be played at the \n",
    "    # new, higher sample rate. This file sounds like a chipmunk but has a weird sample rate.\n",
    "    hipitch_sound = sound._spawn(sound.raw_data, overrides={'frame_rate': new_sample_rate})\n",
    "\n",
    "    # now we just convert it to a common sample rate (44.1k - standard audio CD) to \n",
    "    # make sure it works in regular audio players. Other than potentially losing audio quality (if\n",
    "    # you set it too low - 44.1k is plenty) this should now noticeable change how the audio sounds.\n",
    "    hipitch_sound = hipitch_sound.set_frame_rate(44100)\n",
    "\n",
    "    #Play pitch changed sound\n",
    "    #play(hipitch_sound)\n",
    "\n",
    "    #export / save pitch changed sound\n",
    "    hipitch_sound.export(\"/home/bolo/voice_vani_data/speaker/\"+a+str(octaves)+\".wav\", format=\"wav\")\n"
   ]
  },
  {
   "cell_type": "code",
   "execution_count": 88,
   "metadata": {},
   "outputs": [
    {
     "name": "stdout",
     "output_type": "stream",
     "text": [
      "-0.2\n",
      "read file\n",
      "-0.19\n",
      "read file\n",
      "-0.18\n",
      "read file\n",
      "-0.17\n",
      "read file\n",
      "-0.16\n",
      "read file\n",
      "-0.15\n",
      "read file\n",
      "-0.14\n",
      "read file\n",
      "-0.13\n",
      "read file\n",
      "-0.12\n",
      "read file\n",
      "-0.11\n",
      "read file\n",
      "-0.1\n",
      "read file\n",
      "-0.09\n",
      "read file\n",
      "-0.08\n",
      "read file\n",
      "-0.07\n",
      "read file\n",
      "-0.06\n",
      "read file\n",
      "-0.05\n",
      "read file\n",
      "-0.04\n",
      "read file\n",
      "-0.03\n",
      "read file\n",
      "-0.02\n",
      "read file\n",
      "-0.01\n",
      "read file\n",
      "0.0\n",
      "read file\n",
      "0.01\n",
      "read file\n",
      "0.02\n",
      "read file\n",
      "0.03\n",
      "read file\n",
      "0.04\n",
      "read file\n",
      "0.05\n",
      "read file\n",
      "0.06\n",
      "read file\n",
      "0.07\n",
      "read file\n",
      "0.08\n",
      "read file\n",
      "0.09\n",
      "read file\n",
      "0.1\n",
      "read file\n",
      "0.11\n",
      "read file\n",
      "0.12\n",
      "read file\n",
      "0.13\n",
      "read file\n",
      "0.14\n",
      "read file\n",
      "0.15\n",
      "read file\n",
      "0.16\n",
      "read file\n",
      "0.17\n",
      "read file\n",
      "0.18\n",
      "read file\n",
      "0.19\n",
      "read file\n"
     ]
    }
   ],
   "source": [
    "# pitch range -0.5 to +0.5\n",
    "for i in np.arange(-0.2, 0.2, 0.01):\n",
    "    i = float(\"{0:0.3f}\".format(i))\n",
    "    print(i)\n",
    "    \n",
    "    change_pitch('speaker333',pitch=i ,freq=10) \n",
    "    "
   ]
  },
  {
   "cell_type": "code",
   "execution_count": null,
   "metadata": {},
   "outputs": [],
   "source": []
  }
 ],
 "metadata": {
  "kernelspec": {
   "display_name": "Python 3",
   "language": "python",
   "name": "python3"
  },
  "language_info": {
   "codemirror_mode": {
    "name": "ipython",
    "version": 3
   },
   "file_extension": ".py",
   "mimetype": "text/x-python",
   "name": "python",
   "nbconvert_exporter": "python",
   "pygments_lexer": "ipython3",
   "version": "3.7.1"
  }
 },
 "nbformat": 4,
 "nbformat_minor": 2
}
